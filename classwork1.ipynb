{
 "cells": [
  {
   "cell_type": "code",
   "execution_count": 1,
   "metadata": {},
   "outputs": [
    {
     "name": "stdout",
     "output_type": "stream",
     "text": [
      "2\n",
      "3\n",
      "5\n",
      "7\n",
      "11\n",
      "13\n",
      "17\n",
      "19\n"
     ]
    }
   ],
   "source": [
    "n=20\n",
    "for i in range(1,n):\n",
    "    c=0\n",
    "    for j in range(1,i):\n",
    "        if i%j==0:\n",
    "            c+=1\n",
    "    if c==1:\n",
    "        print(i)\n",
    "\n"
   ]
  },
  {
   "cell_type": "markdown",
   "metadata": {},
   "source": [
    "list in python are co"
   ]
  },
  {
   "cell_type": "code",
   "execution_count": 1,
   "metadata": {},
   "outputs": [
    {
     "data": {
      "text/plain": [
       "[5, 12, 11, 10, 8, 7, 6, 3, 2, 17]"
      ]
     },
     "execution_count": 1,
     "metadata": {},
     "output_type": "execute_result"
    }
   ],
   "source": [
    "list=[10,2,3,7,6,11,8,12]\n",
    "list.sort()\n",
    "list\n",
    "list.reverse()\n",
    "list\n",
    "list.append(17)\n",
    "list\n",
    "list.insert(0,5)\n",
    "list\n"
   ]
  },
  {
   "cell_type": "markdown",
   "metadata": {},
   "source": [
    "intersection and notes"
   ]
  },
  {
   "cell_type": "code",
   "execution_count": 5,
   "metadata": {},
   "outputs": [
    {
     "data": {
      "text/plain": [
       "{3, 4, 5, 6}"
      ]
     },
     "execution_count": 5,
     "metadata": {},
     "output_type": "execute_result"
    }
   ],
   "source": [
    "set1 = {1,2,3,4,5,6}\n",
    "set2 = {3,4,5,6,7,8,9}\n",
    "#union\n",
    "union_set = set1.union(set2)\n",
    "union_set\n",
    "#intersection\n",
    "inter_set = set1.intersection(set2)\n",
    "inter_set"
   ]
  },
  {
   "cell_type": "code",
   "execution_count": 6,
   "metadata": {},
   "outputs": [
    {
     "data": {
      "text/plain": [
       "tuple"
      ]
     },
     "execution_count": 6,
     "metadata": {},
     "output_type": "execute_result"
    }
   ],
   "source": [
    "t = (5,\"bim\",2+9j)\n",
    "a = type(t)\n",
    "a"
   ]
  },
  {
   "cell_type": "code",
   "execution_count": 7,
   "metadata": {},
   "outputs": [
    {
     "data": {
      "text/plain": [
       "5"
      ]
     },
     "execution_count": 7,
     "metadata": {},
     "output_type": "execute_result"
    }
   ],
   "source": [
    "t[0]"
   ]
  },
  {
   "cell_type": "code",
   "execution_count": 8,
   "metadata": {},
   "outputs": [
    {
     "data": {
      "text/plain": [
       "(2+9j)"
      ]
     },
     "execution_count": 8,
     "metadata": {},
     "output_type": "execute_result"
    }
   ],
   "source": [
    "t[-1]"
   ]
  },
  {
   "cell_type": "code",
   "execution_count": 9,
   "metadata": {},
   "outputs": [
    {
     "data": {
      "text/plain": [
       "'bim'"
      ]
     },
     "execution_count": 9,
     "metadata": {},
     "output_type": "execute_result"
    }
   ],
   "source": [
    "t[-2]"
   ]
  },
  {
   "cell_type": "code",
   "execution_count": 1,
   "metadata": {},
   "outputs": [
    {
     "name": "stdout",
     "output_type": "stream",
     "text": [
      "[1, 4, 9, 16, 25, 36, 49, 64]\n"
     ]
    }
   ],
   "source": [
    "numbers = [1,2,3,4,5,6,7,8]\n",
    "squares = [x**2 for x in numbers]\n",
    "print(squares)"
   ]
  },
  {
   "cell_type": "markdown",
   "metadata": {},
   "source": [
    "Output fromatting"
   ]
  },
  {
   "cell_type": "code",
   "execution_count": 6,
   "metadata": {},
   "outputs": [
    {
     "name": "stdout",
     "output_type": "stream",
     "text": [
      "the value of x is 10 and the value of y is 5\n",
      "the value of x is 5 and the value of y is 10\n",
      "the value of x is 5 and the value of y is 10\n"
     ]
    }
   ],
   "source": [
    "x = 5; y = 10\n",
    "print('the value of x is {} and the value of y is {}'.format(y,x))\n",
    "print(f'the value of x is {x} and the value of y is {y}')\n",
    "print('the value of x is {1} and the value of y is {0}'.format(y,x))"
   ]
  },
  {
   "cell_type": "code",
   "execution_count": 7,
   "metadata": {},
   "outputs": [
    {
     "name": "stdout",
     "output_type": "stream",
     "text": [
      "[1000, 8000, 125]\n"
     ]
    }
   ],
   "source": [
    "list = [10,20,5]\n",
    "cube = [a**3 for a in list]\n",
    "print(cube)"
   ]
  },
  {
   "cell_type": "code",
   "execution_count": 2,
   "metadata": {},
   "outputs": [
    {
     "name": "stdout",
     "output_type": "stream",
     "text": [
      "The cpu play is 3 and your play is 1 so:\n",
      "You win\n"
     ]
    },
    {
     "ename": "ValueError",
     "evalue": "invalid literal for int() with base 10: 'EScape'",
     "output_type": "error",
     "traceback": [
      "\u001b[1;31m---------------------------------------------------------------------------\u001b[0m",
      "\u001b[1;31mValueError\u001b[0m                                Traceback (most recent call last)",
      "Cell \u001b[1;32mIn[2], line 8\u001b[0m\n\u001b[0;32m      6\u001b[0m cpu_play \u001b[38;5;241m=\u001b[39m random\u001b[38;5;241m.\u001b[39mrandint(\u001b[38;5;241m1\u001b[39m,\u001b[38;5;241m3\u001b[39m)\n\u001b[0;32m      7\u001b[0m \u001b[38;5;66;03m# print(cpu_play)\u001b[39;00m\n\u001b[1;32m----> 8\u001b[0m user_play\u001b[38;5;241m=\u001b[39m\u001b[38;5;28;43mint\u001b[39;49m\u001b[43m(\u001b[49m\u001b[38;5;28;43minput\u001b[39;49m\u001b[43m(\u001b[49m\u001b[38;5;124;43m\"\u001b[39;49m\u001b[38;5;124;43mEnter your play(1: Rock, 2: Paper, 3: Scissors): \u001b[39;49m\u001b[38;5;124;43m\"\u001b[39;49m\u001b[43m)\u001b[49m\u001b[43m)\u001b[49m\n\u001b[0;32m      9\u001b[0m \u001b[38;5;28;01mif\u001b[39;00m(user_play\u001b[38;5;241m==\u001b[39mcpu_play):\n\u001b[0;32m     10\u001b[0m     \u001b[38;5;28mprint\u001b[39m(\u001b[38;5;124m\"\u001b[39m\u001b[38;5;124mtie\u001b[39m\u001b[38;5;124m\"\u001b[39m)\n",
      "\u001b[1;31mValueError\u001b[0m: invalid literal for int() with base 10: 'EScape'"
     ]
    }
   ],
   "source": [
    "import random\n",
    "rock=1\n",
    "paper=2\n",
    "scissors=3\n",
    "for user_play in range(1,4):\n",
    "    cpu_play = random.randint(1,3)\n",
    "    # print(cpu_play)\n",
    "    user_play=int(input(\"Enter your play(1: Rock, 2: Paper, 3: Scissors): \"))\n",
    "    if(user_play==cpu_play):\n",
    "        print(\"tie\")\n",
    "    elif(user_play==1 and cpu_play==3) or (user_play==2 and cpu_play==1) or (user_play==3 and cpu_play==2):\n",
    "        print(f\"The cpu play is {cpu_play} and your play is {user_play} so:\")\n",
    "        print(\"You win\")\n",
    "    else:\n",
    "        print(f\"The cpu play is {cpu_play} and your play is {user_play} so:\")\n",
    "        print(\"you lose\")\n",
    "    play_again=input(\"do you want to play again?(yes,no): \")\n",
    "    if(play_again!=\"yes\"):\n",
    "        break"
   ]
  }
 ],
 "metadata": {
  "kernelspec": {
   "display_name": "python-venv",
   "language": "python",
   "name": "python3"
  },
  "language_info": {
   "codemirror_mode": {
    "name": "ipython",
    "version": 3
   },
   "file_extension": ".py",
   "mimetype": "text/x-python",
   "name": "python",
   "nbconvert_exporter": "python",
   "pygments_lexer": "ipython3",
   "version": "3.12.3"
  }
 },
 "nbformat": 4,
 "nbformat_minor": 2
}
