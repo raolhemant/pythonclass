{
 "cells": [
  {
   "cell_type": "code",
   "execution_count": 1,
   "metadata": {},
   "outputs": [
    {
     "name": "stdout",
     "output_type": "stream",
     "text": [
      "2\n",
      "3\n",
      "5\n",
      "7\n",
      "9\n",
      "34\n",
      "66\n",
      "86\n"
     ]
    }
   ],
   "source": [
    "a =[2,3,5,7,9,34,66,86]\n",
    "for i in a:\n",
    "    print(i)"
   ]
  },
  {
   "cell_type": "code",
   "execution_count": 2,
   "metadata": {},
   "outputs": [
    {
     "name": "stdout",
     "output_type": "stream",
     "text": [
      "h\n",
      "e\n",
      "m\n",
      "a\n",
      "n\n",
      "t\n"
     ]
    }
   ],
   "source": [
    "for i in \"hemant\":\n",
    "    print(i)\n",
    "    "
   ]
  },
  {
   "cell_type": "markdown",
   "metadata": {},
   "source": [
    "range(1,10,1) in this start value is 1 and goes to less than 10 and increment by 1"
   ]
  },
  {
   "cell_type": "code",
   "execution_count": 3,
   "metadata": {},
   "outputs": [
    {
     "name": "stdout",
     "output_type": "stream",
     "text": [
      "1\n",
      "2\n",
      "3\n",
      "4\n",
      "5\n",
      "6\n",
      "7\n",
      "8\n",
      "9\n"
     ]
    }
   ],
   "source": [
    "#for i = 1; i<=10, i++\n",
    "for i in range(1,10,1):\n",
    "    print(i)"
   ]
  },
  {
   "cell_type": "code",
   "execution_count": 10,
   "metadata": {},
   "outputs": [
    {
     "name": "stdout",
     "output_type": "stream",
     "text": [
      "0\n",
      "1\n",
      "2\n",
      "3\n",
      "4\n",
      "5\n",
      "6\n",
      "7\n"
     ]
    }
   ],
   "source": [
    "for i in range(0,len(a)):\n",
    "    print(i)\n",
    "    "
   ]
  },
  {
   "cell_type": "code",
   "execution_count": 13,
   "metadata": {},
   "outputs": [
    {
     "name": "stdout",
     "output_type": "stream",
     "text": [
      "2\n",
      "3\n",
      "5\n",
      "7\n",
      "9\n",
      "34\n",
      "66\n",
      "86\n"
     ]
    }
   ],
   "source": [
    "for i in range(0,len(a)):\n",
    "    print(a[i])"
   ]
  },
  {
   "cell_type": "code",
   "execution_count": 15,
   "metadata": {},
   "outputs": [
    {
     "name": "stdout",
     "output_type": "stream",
     "text": [
      "2\n",
      "3\n",
      "5\n",
      "7\n",
      "9\n",
      "34\n",
      "66\n",
      "86\n"
     ]
    }
   ],
   "source": [
    "length = len(a)\n",
    "for i in range(0,length,1):\n",
    "    print(a[i])"
   ]
  },
  {
   "cell_type": "code",
   "execution_count": 26,
   "metadata": {},
   "outputs": [
    {
     "name": "stdout",
     "output_type": "stream",
     "text": [
      "2\n",
      "0\n",
      "2\n",
      "4\n",
      "0\n"
     ]
    }
   ],
   "source": [
    "a = [1,2,3,-1,0,2,4,0,-3,-9]\n",
    "for i in range(len(a)):\n",
    "    if a[i]%2==0:\n",
    "        print(a[i])"
   ]
  },
  {
   "cell_type": "code",
   "execution_count": 28,
   "metadata": {},
   "outputs": [
    {
     "name": "stdout",
     "output_type": "stream",
     "text": [
      "1\n",
      "3\n",
      "-1\n",
      "-3\n",
      "-9\n"
     ]
    }
   ],
   "source": [
    "a = [1,2,3,-1,0,2,4,0,-3,-9]\n",
    "for i in range(len(a)):\n",
    "    if a[i]%2!=0:\n",
    "        print(a[i])"
   ]
  },
  {
   "cell_type": "code",
   "execution_count": 32,
   "metadata": {},
   "outputs": [
    {
     "name": "stdout",
     "output_type": "stream",
     "text": [
      "2 X 1 =2\n",
      "2 X 2 =4\n",
      "2 X 3 =6\n",
      "2 X 4 =8\n",
      "2 X 5 =10\n",
      "2 X 6 =12\n",
      "2 X 7 =14\n",
      "2 X 8 =16\n",
      "2 X 9 =18\n",
      "2 X 10 =20\n"
     ]
    }
   ],
   "source": [
    "# 2 X 1 = 2\n",
    "# 2 X 2 = 4\n",
    "# 2 X 3 = 6\n",
    "# 2 x 4 = 8\n",
    "# 2 x 5 = 10\n",
    "n = 2\n",
    "for i in range (1,11):\n",
    "    print(f'2 X {i} ={n*i}')\n",
    "\n"
   ]
  },
  {
   "cell_type": "code",
   "execution_count": 34,
   "metadata": {},
   "outputs": [
    {
     "name": "stdout",
     "output_type": "stream",
     "text": [
      "8 X 1 =8\n",
      "8 X 2 =16\n",
      "8 X 3 =24\n",
      "8 X 4 =32\n",
      "8 X 5 =40\n",
      "8 X 6 =48\n",
      "8 X 7 =56\n",
      "8 X 8 =64\n",
      "8 X 9 =72\n",
      "8 X 10 =80\n"
     ]
    }
   ],
   "source": [
    "n = int(input(\"ENTER THE VALUE \"))\n",
    "for i in range (1,11):\n",
    "    print(f'{n} X {i} ={n*i}')"
   ]
  },
  {
   "cell_type": "markdown",
   "metadata": {},
   "source": [
    "using break"
   ]
  },
  {
   "cell_type": "code",
   "execution_count": 35,
   "metadata": {},
   "outputs": [
    {
     "name": "stdout",
     "output_type": "stream",
     "text": [
      "8 X 1 =8\n",
      "8 X 2 =16\n",
      "8 X 3 =24\n",
      "8 X 4 =32\n",
      "8 X 5 =40\n",
      "8 X 6 =48\n"
     ]
    }
   ],
   "source": [
    "n = int(input(\"ENTER THE VALUE \"))\n",
    "for i in range (1,11):\n",
    "    if i == 7:\n",
    "        break\n",
    "    print(f'{n} X {i} ={n*i}')"
   ]
  },
  {
   "cell_type": "code",
   "execution_count": null,
   "metadata": {},
   "outputs": [],
   "source": [
    "using continue"
   ]
  },
  {
   "cell_type": "code",
   "execution_count": 36,
   "metadata": {},
   "outputs": [
    {
     "name": "stdout",
     "output_type": "stream",
     "text": [
      "7 X 1 =7\n",
      "7 X 2 =14\n",
      "7 X 3 =21\n",
      "7 X 4 =28\n",
      "7 X 5 =35\n",
      "7 X 6 =42\n",
      "7 X 8 =56\n",
      "7 X 9 =63\n",
      "7 X 10 =70\n"
     ]
    }
   ],
   "source": [
    "n = int(input(\"ENTER THE VALUE \"))\n",
    "for i in range (1,11):\n",
    "    if i == 7:\n",
    "        continue\n",
    "    print(f'{n} X {i} ={n*i}')"
   ]
  }
 ],
 "metadata": {
  "kernelspec": {
   "display_name": "python-venv",
   "language": "python",
   "name": "python3"
  },
  "language_info": {
   "codemirror_mode": {
    "name": "ipython",
    "version": 3
   },
   "file_extension": ".py",
   "mimetype": "text/x-python",
   "name": "python",
   "nbconvert_exporter": "python",
   "pygments_lexer": "ipython3",
   "version": "3.12.3"
  }
 },
 "nbformat": 4,
 "nbformat_minor": 2
}
