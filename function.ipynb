{
 "cells": [
  {
   "cell_type": "markdown",
   "metadata": {},
   "source": [
    "a function is part of code which is run when it is called.."
   ]
  },
  {
   "cell_type": "code",
   "execution_count": 3,
   "metadata": {},
   "outputs": [
    {
     "name": "stdout",
     "output_type": "stream",
     "text": [
      "hi i am function\n",
      "hi i am function\n"
     ]
    }
   ],
   "source": [
    "def test():\n",
    "    print(\"hi i am function\")\n",
    "test()\n",
    "test()"
   ]
  },
  {
   "cell_type": "code",
   "execution_count": 7,
   "metadata": {},
   "outputs": [
    {
     "name": "stdout",
     "output_type": "stream",
     "text": [
      "4 X 1 =4\n",
      "4 X 2 =8\n",
      "4 X 3 =12\n",
      "4 X 4 =16\n",
      "4 X 5 =20\n",
      "4 X 6 =24\n",
      "4 X 7 =28\n",
      "4 X 8 =32\n",
      "4 X 9 =36\n",
      "4 X 10 =40\n"
     ]
    }
   ],
   "source": [
    "def mult():\n",
    "    n = int(input(\"Enter the value\"))\n",
    "    for i in range(1,11):\n",
    "        print(f'{n} X {i} ={n*i}')\n",
    "mult()\n",
    "    "
   ]
  }
 ],
 "metadata": {
  "kernelspec": {
   "display_name": "python-venv",
   "language": "python",
   "name": "python3"
  },
  "language_info": {
   "codemirror_mode": {
    "name": "ipython",
    "version": 3
   },
   "file_extension": ".py",
   "mimetype": "text/x-python",
   "name": "python",
   "nbconvert_exporter": "python",
   "pygments_lexer": "ipython3",
   "version": "3.12.3"
  }
 },
 "nbformat": 4,
 "nbformat_minor": 2
}
