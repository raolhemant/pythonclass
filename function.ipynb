{
 "cells": [
  {
   "cell_type": "markdown",
   "metadata": {},
   "source": [
    "a function is part of code which is run when it is called.."
   ]
  },
  {
   "cell_type": "code",
   "execution_count": 3,
   "metadata": {},
   "outputs": [
    {
     "name": "stdout",
     "output_type": "stream",
     "text": [
      "hi i am function\n",
      "hi i am function\n"
     ]
    }
   ],
   "source": [
    "def test():\n",
    "    print(\"hi i am function\")\n",
    "test()\n",
    "test()"
   ]
  },
  {
   "cell_type": "code",
   "execution_count": 7,
   "metadata": {},
   "outputs": [
    {
     "name": "stdout",
     "output_type": "stream",
     "text": [
      "4 X 1 =4\n",
      "4 X 2 =8\n",
      "4 X 3 =12\n",
      "4 X 4 =16\n",
      "4 X 5 =20\n",
      "4 X 6 =24\n",
      "4 X 7 =28\n",
      "4 X 8 =32\n",
      "4 X 9 =36\n",
      "4 X 10 =40\n"
     ]
    }
   ],
   "source": [
    "def mult():\n",
    "    n = int(input(\"Enter the value\"))\n",
    "    for i in range(1,11):\n",
    "        print(f'{n} X {i} ={n*i}')\n",
    "mult()\n",
    "    "
   ]
  },
  {
   "cell_type": "code",
   "execution_count": 2,
   "metadata": {},
   "outputs": [
    {
     "name": "stdout",
     "output_type": "stream",
     "text": [
      "His last name is Rawal\n",
      "his first name is Hemant\n"
     ]
    }
   ],
   "source": [
    "def my_function(**kid):\n",
    "\n",
    "  print(\"His last name is \" + kid[\"lname\"])\n",
    "  print(\"his first name is \"+ kid[\"fname\"])\n",
    "\n",
    "my_function(fname = \"Hemant\", lname = \"Rawal\")"
   ]
  },
  {
   "cell_type": "code",
   "execution_count": 7,
   "metadata": {},
   "outputs": [
    {
     "data": {
      "text/plain": [
       "27"
      ]
     },
     "execution_count": 7,
     "metadata": {},
     "output_type": "execute_result"
    }
   ],
   "source": [
    "def hello_world():\n",
    "    sum = 0\n",
    "    a = [1,1,3,4,5,6,7]\n",
    "    for i in a:\n",
    "        sum = sum + i\n",
    "    return sum\n",
    "hello_world()"
   ]
  },
  {
   "cell_type": "markdown",
   "metadata": {},
   "source": [
    "ARGUMENTS"
   ]
  },
  {
   "cell_type": "code",
   "execution_count": 13,
   "metadata": {},
   "outputs": [
    {
     "name": "stdout",
     "output_type": "stream",
     "text": [
      "hello world from Tikapur kailali\n"
     ]
    }
   ],
   "source": [
    "#position arguments\n",
    "def fun(address,city):\n",
    "    print(\"hello world from\",address,city)\n",
    "fun(\"Tikapur\",\"kailali\")"
   ]
  },
  {
   "cell_type": "code",
   "execution_count": 14,
   "metadata": {},
   "outputs": [
    {
     "name": "stdout",
     "output_type": "stream",
     "text": [
      "hello world from kailali\n"
     ]
    }
   ],
   "source": [
    "def fun(address):\n",
    "    print(\"hello world from\",address[1])\n",
    "fun([\"Tikapur\",\"kailali\"])"
   ]
  },
  {
   "cell_type": "code",
   "execution_count": 15,
   "metadata": {},
   "outputs": [
    {
     "name": "stdout",
     "output_type": "stream",
     "text": [
      "hello world from Nepal\n"
     ]
    }
   ],
   "source": [
    "#default arguments\n",
    "def fun(address = \"Nepal\"):\n",
    "    print(\"hello world from\",address)\n",
    "fun()#gives the default answer "
   ]
  },
  {
   "cell_type": "code",
   "execution_count": 21,
   "metadata": {},
   "outputs": [
    {
     "name": "stdout",
     "output_type": "stream",
     "text": [
      "My name is hemant Rawal\n"
     ]
    }
   ],
   "source": [
    "def info(fname,lname=\"Rawal\"):\n",
    "    print(\"My name is\",fname,lname)\n",
    "info(\"hemant\")\n",
    "    "
   ]
  },
  {
   "cell_type": "code",
   "execution_count": 23,
   "metadata": {},
   "outputs": [
    {
     "name": "stdout",
     "output_type": "stream",
     "text": [
      "my name is hemant and my last name is rawal\n"
     ]
    }
   ],
   "source": [
    "#keyword arguments\n",
    "def info (fname, lname = \"rawal\"):\n",
    "    print(f'my name is {fname} and my last name is {lname}')\n",
    "info(\"hemant\")"
   ]
  },
  {
   "cell_type": "code",
   "execution_count": 25,
   "metadata": {},
   "outputs": [
    {
     "name": "stdout",
     "output_type": "stream",
     "text": [
      "my name is hemant and my last name is rawal\n",
      "my name is Sanjay and my last name is rawal\n"
     ]
    }
   ],
   "source": [
    "def alfa(fname,lname):\n",
    "    print(f'my name is {fname} and my last name is {lname}')\n",
    "alfa(fname=\"hemant\",lname=\"rawal\")\n",
    "alfa(fname=\"Sanjay\",lname=\"rawal\")"
   ]
  },
  {
   "cell_type": "markdown",
   "metadata": {},
   "source": [
    "Arbitary arguments"
   ]
  },
  {
   "cell_type": "code",
   "execution_count": 28,
   "metadata": {},
   "outputs": [
    {
     "data": {
      "text/plain": [
       "9"
      ]
     },
     "execution_count": 28,
     "metadata": {},
     "output_type": "execute_result"
    }
   ],
   "source": [
    "#arbitary position arguments\n",
    "def sums(a,b,c):\n",
    "    sum = a + b + c\n",
    "    return sum\n",
    "sums(2,3,4)"
   ]
  },
  {
   "cell_type": "code",
   "execution_count": 55,
   "metadata": {},
   "outputs": [
    {
     "data": {
      "text/plain": [
       "4"
      ]
     },
     "execution_count": 55,
     "metadata": {},
     "output_type": "execute_result"
    }
   ],
   "source": [
    "def sumss(*data):\n",
    "    sum = 0\n",
    "    for i in data:\n",
    "        sum = sum +1\n",
    "    return sum\n",
    "sumss(1,2,3,4)\n",
    "    \n"
   ]
  }
 ],
 "metadata": {
  "kernelspec": {
   "display_name": "python-venv",
   "language": "python",
   "name": "python3"
  },
  "language_info": {
   "codemirror_mode": {
    "name": "ipython",
    "version": 3
   },
   "file_extension": ".py",
   "mimetype": "text/x-python",
   "name": "python",
   "nbconvert_exporter": "python",
   "pygments_lexer": "ipython3",
   "version": "3.12.3"
  }
 },
 "nbformat": 4,
 "nbformat_minor": 2
}
