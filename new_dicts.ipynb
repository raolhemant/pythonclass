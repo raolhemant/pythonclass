{
 "cells": [
  {
   "cell_type": "code",
   "execution_count": 48,
   "metadata": {},
   "outputs": [
    {
     "data": {
      "text/plain": [
       "{'name': 'hemant',\n",
       " 'address': 'koteswor',\n",
       " 'phone': 9868,\n",
       " 'subject': ['math', 'python', 'web']}"
      ]
     },
     "execution_count": 48,
     "metadata": {},
     "output_type": "execute_result"
    }
   ],
   "source": [
    "student = {\n",
    "    \"name\":\"hemant\",\n",
    "    \"address\": \"koteswor\",\n",
    "    \"phone\":9868,\n",
    "    \"subject\" : ['math','python','web']\n",
    "    }\n",
    "student"
   ]
  },
  {
   "cell_type": "code",
   "execution_count": 49,
   "metadata": {},
   "outputs": [
    {
     "data": {
      "text/plain": [
       "{'name': 'breakpoint',\n",
       " 'address': 'koteswor',\n",
       " 'phone': 9868,\n",
       " 'subject': ['math', 'python', 'web']}"
      ]
     },
     "execution_count": 49,
     "metadata": {},
     "output_type": "execute_result"
    }
   ],
   "source": [
    "student ['name']=\"breakpoint\"\n",
    "student"
   ]
  },
  {
   "cell_type": "code",
   "execution_count": 50,
   "metadata": {},
   "outputs": [
    {
     "data": {
      "text/plain": [
       "{'name': 'breakpoint',\n",
       " 'address': 'koteswor',\n",
       " 'phone': 9868,\n",
       " 'subject': ['math', 'python', 'web'],\n",
       " 'testting_name': 'rawal'}"
      ]
     },
     "execution_count": 50,
     "metadata": {},
     "output_type": "execute_result"
    }
   ],
   "source": [
    "student['testting_name']=\"rawal\"\n",
    "student"
   ]
  },
  {
   "cell_type": "markdown",
   "metadata": {},
   "source": [
    "Add new key and key value"
   ]
  },
  {
   "cell_type": "code",
   "execution_count": 51,
   "metadata": {},
   "outputs": [
    {
     "data": {
      "text/plain": [
       "{'name': 'breakpoint',\n",
       " 'address': 'koteswor',\n",
       " 'phone': 9868,\n",
       " 'subject': ['math', 'python', 'web'],\n",
       " 'testting_name': 'rawal',\n",
       " 'lastname': 'rawal'}"
      ]
     },
     "execution_count": 51,
     "metadata": {},
     "output_type": "execute_result"
    }
   ],
   "source": [
    "student['lastname']=\"rawal\"#its help to add new key and value\n",
    "student"
   ]
  },
  {
   "cell_type": "markdown",
   "metadata": {},
   "source": [
    "key dekhauney"
   ]
  },
  {
   "cell_type": "code",
   "execution_count": 52,
   "metadata": {},
   "outputs": [
    {
     "data": {
      "text/plain": [
       "dict_keys(['name', 'address', 'phone', 'subject', 'testting_name', 'lastname'])"
      ]
     },
     "execution_count": 52,
     "metadata": {},
     "output_type": "execute_result"
    }
   ],
   "source": [
    "student.keys()"
   ]
  },
  {
   "cell_type": "markdown",
   "metadata": {},
   "source": [
    "values dekhaune"
   ]
  },
  {
   "cell_type": "code",
   "execution_count": 53,
   "metadata": {},
   "outputs": [
    {
     "data": {
      "text/plain": [
       "dict_values(['breakpoint', 'koteswor', 9868, ['math', 'python', 'web'], 'rawal', 'rawal'])"
      ]
     },
     "execution_count": 53,
     "metadata": {},
     "output_type": "execute_result"
    }
   ],
   "source": [
    "student.values(\n",
    ")"
   ]
  },
  {
   "cell_type": "code",
   "execution_count": 54,
   "metadata": {},
   "outputs": [
    {
     "data": {
      "text/plain": [
       "dict_values(['breakpoint', 'koteswor', 9868, ['math', 'python', 'web'], 'rawal', 'rawal'])"
      ]
     },
     "execution_count": 54,
     "metadata": {},
     "output_type": "execute_result"
    }
   ],
   "source": [
    "student.values()"
   ]
  },
  {
   "cell_type": "markdown",
   "metadata": {},
   "source": [
    "if there is keys the change the value of key "
   ]
  },
  {
   "cell_type": "code",
   "execution_count": 55,
   "metadata": {},
   "outputs": [
    {
     "data": {
      "text/plain": [
       "{'name': 'alfa',\n",
       " 'address': 'koteswor',\n",
       " 'phone': 9868,\n",
       " 'subject': ['math', 'python', 'web'],\n",
       " 'testting_name': 'rawal',\n",
       " 'lastname': 'rawal'}"
      ]
     },
     "execution_count": 55,
     "metadata": {},
     "output_type": "execute_result"
    }
   ],
   "source": [
    "student.update({\n",
    "    \"name\":\"alfa\"\n",
    "})\n",
    "student"
   ]
  },
  {
   "cell_type": "code",
   "execution_count": 56,
   "metadata": {},
   "outputs": [
    {
     "data": {
      "text/plain": [
       "{'name': 'alfa',\n",
       " 'address': 'mahadevstan',\n",
       " 'phone': 9868,\n",
       " 'subject': ['math', 'python', 'web'],\n",
       " 'testting_name': 'rawal',\n",
       " 'lastname': 'bist',\n",
       " 'lastname1': 'rawal'}"
      ]
     },
     "execution_count": 56,
     "metadata": {},
     "output_type": "execute_result"
    }
   ],
   "source": [
    "student.update({\n",
    "    'address':'mahadevstan',\n",
    "    'lastname':'bist',\n",
    "    'lastname1':'rawal'\n",
    "})\n",
    "student"
   ]
  },
  {
   "cell_type": "code",
   "execution_count": 57,
   "metadata": {},
   "outputs": [
    {
     "name": "stdout",
     "output_type": "stream",
     "text": [
      "mahadevstan\n"
     ]
    }
   ],
   "source": [
    "print(student.get('address'))"
   ]
  },
  {
   "cell_type": "markdown",
   "metadata": {},
   "source": [
    "if eee key xa bhane dey values natra print hemant"
   ]
  },
  {
   "cell_type": "code",
   "execution_count": 58,
   "metadata": {},
   "outputs": [
    {
     "name": "stdout",
     "output_type": "stream",
     "text": [
      "hemant\n"
     ]
    }
   ],
   "source": [
    "print(student.get('eee','hemant'))"
   ]
  },
  {
   "cell_type": "code",
   "execution_count": 59,
   "metadata": {},
   "outputs": [
    {
     "name": "stdout",
     "output_type": "stream",
     "text": [
      "{'name': 'hemant', 'address': 'mahadevstan', 'phone': 9868, 'subject': ['math', 'python', 'web'], 'testting_name': 'rawal', 'lastname': 'bist', 'lastname1': 'rawal'}\n"
     ]
    }
   ],
   "source": [
    "student.update({\n",
    "    'name':'hemant'\n",
    "})\n",
    "print(student)"
   ]
  },
  {
   "cell_type": "code",
   "execution_count": 60,
   "metadata": {},
   "outputs": [
    {
     "name": "stdout",
     "output_type": "stream",
     "text": [
      "{'name': 'hemant', 'address': 'mahadevstan', 'phone': 9868, 'subject': ['math', 'python', 'web'], 'testting_name': 'rawal', 'lastname': 'bist', 'lastname1': 'rawal'}\n"
     ]
    }
   ],
   "source": [
    "student.update({\n",
    "    'name':'hemant'\n",
    "})\n",
    "print(student)\n"
   ]
  },
  {
   "cell_type": "code",
   "execution_count": 61,
   "metadata": {},
   "outputs": [],
   "source": [
    "# student.pop(address)\n",
    "# student"
   ]
  },
  {
   "cell_type": "markdown",
   "metadata": {},
   "source": [
    "remove dict values one by one from last"
   ]
  },
  {
   "cell_type": "code",
   "execution_count": 62,
   "metadata": {},
   "outputs": [
    {
     "data": {
      "text/plain": [
       "{'name': 'hemant',\n",
       " 'address': 'mahadevstan',\n",
       " 'phone': 9868,\n",
       " 'subject': ['math', 'python', 'web'],\n",
       " 'testting_name': 'rawal',\n",
       " 'lastname': 'bist'}"
      ]
     },
     "execution_count": 62,
     "metadata": {},
     "output_type": "execute_result"
    }
   ],
   "source": [
    "student.popitem()\n",
    "student"
   ]
  },
  {
   "cell_type": "markdown",
   "metadata": {},
   "source": [
    "copy the value of student in testing_copy"
   ]
  },
  {
   "cell_type": "code",
   "execution_count": 65,
   "metadata": {},
   "outputs": [
    {
     "data": {
      "text/plain": [
       "<function dict.copy>"
      ]
     },
     "execution_count": 65,
     "metadata": {},
     "output_type": "execute_result"
    }
   ],
   "source": [
    "testing_copy = student.copy\n",
    "testing_copy"
   ]
  }
 ],
 "metadata": {
  "kernelspec": {
   "display_name": "python-venv",
   "language": "python",
   "name": "python3"
  },
  "language_info": {
   "codemirror_mode": {
    "name": "ipython",
    "version": 3
   },
   "file_extension": ".py",
   "mimetype": "text/x-python",
   "name": "python",
   "nbconvert_exporter": "python",
   "pygments_lexer": "ipython3",
   "version": "3.12.3"
  }
 },
 "nbformat": 4,
 "nbformat_minor": 2
}
